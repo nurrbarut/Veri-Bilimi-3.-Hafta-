{
 "cells": [
  {
   "cell_type": "markdown",
   "id": "19275cf5-eadc-4dd3-911c-3290212dc068",
   "metadata": {},
   "source": [
    "## Soru 1 – Liste Metotları"
   ]
  },
  {
   "cell_type": "code",
   "execution_count": 9,
   "id": "d2875264-5706-43dc-9da1-bc4d86d70ee7",
   "metadata": {},
   "outputs": [
    {
     "name": "stdout",
     "output_type": "stream",
     "text": [
      "Yeni notlar: [100, 92, 85, 76]\n",
      "En yüksek not: 100\n",
      "En düşük not: 76\n",
      "Küçükten büyüğe sıralama: [76, 85, 92, 100]\n"
     ]
    }
   ],
   "source": [
    "notlar = [85, 92, 76, 92, 100, 76, 85, 92]\n",
    "yeni_notlar = list(set(notlar))\n",
    "print(\"Yeni notlar:\", yeni_notlar)\n",
    "en_yuksek = max(yeni_notlar)\n",
    "en_dusuk = min(yeni_notlar)\n",
    "print(\"En yüksek not:\", en_yuksek)\n",
    "print(\"En düşük not:\", en_dusuk)\n",
    "yeni_notlar.sort()\n",
    "print(\"Küçükten büyüğe sıralama:\", yeni_notlar)"
   ]
  },
  {
   "cell_type": "markdown",
   "id": "05c355e1-af58-433b-8ab7-ca126ce5a289",
   "metadata": {},
   "source": [
    "## Soru 2 – Sayılar"
   ]
  },
  {
   "cell_type": "code",
   "execution_count": 16,
   "id": "198acec8-8b29-4e07-82ba-0fff7f7468d4",
   "metadata": {},
   "outputs": [
    {
     "name": "stdin",
     "output_type": "stream",
     "text": [
      "Lütfen bir sayı giriniz: 153\n"
     ]
    },
    {
     "name": "stdout",
     "output_type": "stream",
     "text": [
      "Armstrong sayısıdır.\n"
     ]
    }
   ],
   "source": [
    "sayi = int(input(\"Lütfen bir sayı giriniz:\"))\n",
    "\n",
    "def armstrong_mu(sayi):\n",
    "    basamaklar = str(sayi)\n",
    "    toplam = 0\n",
    "    for basamak in basamaklar:\n",
    "        toplam += int(basamak) ** 3\n",
    "    return toplam == sayi\n",
    "\n",
    "if armstrong_mu(sayi):\n",
    "    print(\"Armstrong sayısıdır.\")\n",
    "else:\n",
    "    print(\"Armstrong sayısı değildir.\")"
   ]
  },
  {
   "cell_type": "markdown",
   "id": "aa57bc4d-812b-443b-a9cb-dc66d76fbe13",
   "metadata": {},
   "source": [
    "## Soru 3 – Kümeler"
   ]
  },
  {
   "cell_type": "code",
   "execution_count": 21,
   "id": "63a6221a-be75-41ef-a293-58ffb1ceeeac",
   "metadata": {},
   "outputs": [
    {
     "name": "stdout",
     "output_type": "stream",
     "text": [
      "Ortak diller: {'SQL', 'Python'}\n",
      "Sadece A'da bulunan diller: {'Java', 'R'}\n",
      "İki kümenin birleşimi: ['C++', 'Java', 'JavaScript', 'Python', 'R', 'SQL']\n"
     ]
    }
   ],
   "source": [
    "A = {\"Python\", \"R\", \"SQL\", \"Java\"}\n",
    "B = {\"C++\", \"Python\", \"JavaScript\", \"SQL\"}\n",
    "ortak = A & B\n",
    "print(\"Ortak diller:\",ortak)\n",
    "fark = A - B\n",
    "print(\"Sadece A'da bulunan diller:\",fark)\n",
    "birlesim = A | B\n",
    "birlesim_liste = list(birlesim)\n",
    "birlesim_liste.sort()\n",
    "print(\"İki kümenin birleşimi:\",birlesim_liste)"
   ]
  },
  {
   "cell_type": "markdown",
   "id": "4252e530-944e-4fcf-9062-5ee108223a6d",
   "metadata": {},
   "source": [
    "## Soru 4 – Modüller"
   ]
  },
  {
   "cell_type": "code",
   "execution_count": 27,
   "id": "ccf84ac8-fb3e-498d-9c37-8d9c5d78cf3e",
   "metadata": {},
   "outputs": [
    {
     "name": "stdout",
     "output_type": "stream",
     "text": [
      "Rastgele sayılar: [14, 70, 97, 76, 59, 64, 18, 83, 62, 83]\n",
      "Sayıların ortalaması: 62.6\n",
      "Sayıların standart sapması: 20.478715237479566\n"
     ]
    }
   ],
   "source": [
    "import random\n",
    "import statistics\n",
    "rastgele_sayilar = [random.randint(1,100) for _ in range(10)]\n",
    "print(\"Rastgele sayılar:\",rastgele_sayilar)\n",
    "sayi_ort = statistics.mean(rastgele_sayilar)\n",
    "print(\"Sayıların ortalaması:\",sayi_ort)\n",
    "st_sapma = statistics.stdev(rastegele_sayilar)\n",
    "print(\"Sayıların standart sapması:\",st_sapma)\n"
   ]
  },
  {
   "cell_type": "markdown",
   "id": "d8eff808-8f15-436b-8167-2be12fb8396a",
   "metadata": {},
   "source": [
    "## Soru 5 – Fonksiyonlar"
   ]
  },
  {
   "cell_type": "code",
   "execution_count": 28,
   "id": "47a3a6a8-c37f-499e-a84b-ee7638ea756a",
   "metadata": {},
   "outputs": [
    {
     "name": "stdin",
     "output_type": "stream",
     "text": [
      "Lütfen bir metin giriniz: Kod yazmak, problem çözmeyi öğretir. Python ile projeler yapmak hem eğlenceli hem öğreticidir.\n"
     ]
    },
    {
     "name": "stdout",
     "output_type": "stream",
     "text": [
      "Toplam kelime sayısı: 13\n",
      "En uzun kelime: öğreticidir.\n",
      "En sık geçen kelime: hem\n"
     ]
    }
   ],
   "source": [
    "metin = input(\"Lütfen bir metin giriniz:\")\n",
    "def kelime_sayaci(metin):\n",
    "    kelimeler = metin.split()\n",
    "    kelime_top = len(kelimeler)\n",
    "    en_uzun_kelime = max(kelimeler, key=len)\n",
    "    kelime_sikligi = {}\n",
    "    for kelime in kelimeler:\n",
    "        if kelime in kelime_sikligi:\n",
    "            kelime_sikligi[kelime] += 1\n",
    "        else:\n",
    "            kelime_sikligi[kelime] = 1\n",
    "    en_sik_kelime = max(kelime_sikligi, key=kelime_sikligi.get)\n",
    "    return kelime_top, en_uzun_kelime, en_sik_kelime\n",
    "    \n",
    "toplam, uzun, sik = kelime_sayaci(metin)\n",
    "print(\"Toplam kelime sayısı:\",toplam)\n",
    "print(\"En uzun kelime:\",uzun)\n",
    "print(\"En sık geçen kelime:\",sik)"
   ]
  },
  {
   "cell_type": "markdown",
   "id": "9ff9318b-53b5-4053-a6d0-7bb33d996ca6",
   "metadata": {},
   "source": [
    "## Soru 6 – Gömülü Fonksiyonlar"
   ]
  },
  {
   "cell_type": "code",
   "execution_count": 30,
   "id": "a15803b8-63f9-4b97-a9c3-208beee27c68",
   "metadata": {},
   "outputs": [
    {
     "name": "stdout",
     "output_type": "stream",
     "text": [
      "Çift sayılar: [12, 18, 24, 16]\n",
      "Sayıların kareleri: [144, 324, 576, 256]\n",
      "Karelerin büyükten küçüğe sıralaması: [576, 324, 256, 144]\n"
     ]
    }
   ],
   "source": [
    "sayilar = [5, 12, 7, 18, 24, 3, 16]\n",
    "\n",
    "cift_sayilar = list(filter(lambda x: x % 2 == 0, sayilar))\n",
    "print(\"Çift sayılar:\", cift_sayilar)\n",
    "kareler = list(map(lambda x: x**2, cift_sayilar))\n",
    "print(\"Sayıların kareleri:\", kareler)\n",
    "kareler_azalan = sorted(kareler, reverse=True)\n",
    "print(\"Karelerin büyükten küçüğe sıralaması:\", kareler_azalan)"
   ]
  },
  {
   "cell_type": "markdown",
   "id": "3dff4972-0c75-4d80-be0b-6222251f0dfa",
   "metadata": {},
   "source": [
    "## Soru 7 – Lambda İfadeleri"
   ]
  },
  {
   "cell_type": "code",
   "execution_count": 31,
   "id": "cedd456f-d77c-4fe6-9257-13df1fb43aa9",
   "metadata": {},
   "outputs": [
    {
     "name": "stdout",
     "output_type": "stream",
     "text": [
      "['veri', 'bilim', 'analiz', 'python', 'yapayzeka']\n"
     ]
    }
   ],
   "source": [
    "kelimeler = [\"veri\", \"bilim\", \"analiz\", \"yapayzeka\", \"python\"]\n",
    "siralama = sorted(kelimeler, key=lambda x: len(x))\n",
    "print(siralama)"
   ]
  },
  {
   "cell_type": "markdown",
   "id": "de05067d-30fc-4892-9429-22f2f3f29cc8",
   "metadata": {},
   "source": [
    "## Soru 8 – Metodlar"
   ]
  },
  {
   "cell_type": "code",
   "execution_count": 33,
   "id": "1291e1b7-e0d7-42cf-bab0-26a40c4dc687",
   "metadata": {},
   "outputs": [
    {
     "name": "stdout",
     "output_type": "stream",
     "text": [
      "Rakamların toplamı: 23\n"
     ]
    }
   ],
   "source": [
    "def rakamlar_toplam(metin):\n",
    "    toplam = 0\n",
    "    for karakter in metin:\n",
    "        if karakter.isdigit():\n",
    "            toplam += int(karakter) \n",
    "    return toplam\n",
    "metin = \"dj5d45f5d4v\"\n",
    "sonuc = rakamlar_toplam(metin)\n",
    "print(\"Rakamların toplamı:\", sonuc)"
   ]
  },
  {
   "cell_type": "markdown",
   "id": "d10373ae-d39f-4e54-958f-48cce42af615",
   "metadata": {},
   "source": [
    "## Proje – “Kitap Satış Analiz Sistemi”"
   ]
  },
  {
   "cell_type": "code",
   "execution_count": 35,
   "id": "972efd4e-6c76-4391-a3bc-8e499a014a2b",
   "metadata": {},
   "outputs": [
    {
     "name": "stdout",
     "output_type": "stream",
     "text": [
      "En çok satan kitap: Makine Öğrenmesi\n",
      "Yazar satışları: {'Ali': 3400, 'Ayşe': 1550, 'Can': 1800, 'Deniz': 400}\n",
      "Türler: {'Sanat', 'Sosyal', 'Bilim', 'Akademik'}\n",
      "1000’den fazla satan kitaplar: ['Veri Bilimi 101', 'Makine Öğrenmesi', 'Matematiksel Modelleme']\n",
      "2020 sonrası kitaplar: ['Veri Bilimi 101', 'Makine Öğrenmesi', 'Matematiksel Modelleme', 'Bilgi Toplumu']\n",
      "Satışları %10 artırılmış liste: [1320.0, 1045.0, 770.0, 1980.0, 440.0, 1650.0, 660.0]\n",
      "Satışa göre azalan sıralama: ['Makine Öğrenmesi', 'Matematiksel Modelleme', 'Veri Bilimi 101', 'Python ile Yapay Zeka', 'İstatistik Temelleri', 'Bilgi Toplumu', 'Veri Görselleştirme']\n",
      "Ortalama satış: 1021.4\n",
      "En çok satış yapan tür: Bilim\n",
      "Standart sapma: 506.5\n"
     ]
    }
   ],
   "source": [
    "kitaplar = [ {\"isim\": \"Veri Bilimi 101\", \"yazar\": \"Ali\", \"tur\": \"Bilim\", \"satis\": 1200, \"yil\": 2021}, {\"isim\": \"Python ile Yapay Zeka\", \"yazar\": \"Ayşe\", \"tur\": \"Bilim\", \"satis\": 950, \"yil\": 2020}, {\"isim\": \"İstatistik Temelleri\", \"yazar\": \"Ali\", \"tur\": \"Akademik\", \"satis\": 700, \"yil\": 2019}, {\"isim\": \"Makine Öğrenmesi\", \"yazar\": \"Can\", \"tur\": \"Bilim\", \"satis\": 1800, \"yil\": 2022}, {\"isim\": \"Veri Görselleştirme\", \"yazar\": \"Deniz\", \"tur\": \"Sanat\", \"satis\": 400, \"yil\": 2018}, {\"isim\": \"Matematiksel Modelleme\", \"yazar\": \"Ali\", \"tur\": \"Akademik\", \"satis\": 1500, \"yil\": 2021}, {\"isim\": \"Bilgi Toplumu\", \"yazar\": \"Ayşe\", \"tur\": \"Sosyal\", \"satis\": 600, \"yil\": 2022} ]\n",
    "\n",
    "def en_cok_satan(kitaplar):\n",
    "    return max(kitaplar, key=lambda k: k[\"satis\"])[\"isim\"]\n",
    "\n",
    "def yazar_satislari(kitaplar):\n",
    "    satis_dict = {}\n",
    "    for kitap in kitaplar:\n",
    "        yazar = kitap[\"yazar\"]\n",
    "        satis_dict[yazar] = satis_dict.get(yazar, 0) + kitap[\"satis\"]\n",
    "    return satis_dict\n",
    "    \n",
    "turler = {kitap[\"tur\"] for kitap in kitaplar}\n",
    "populer_kitaplar = [kitap[\"isim\"] for kitap in kitaplar if kitap[\"satis\"] > 1000]\n",
    "\n",
    "kitaplar_2020_sonra = list(filter(lambda k: k[\"yil\"] > 2020, kitaplar))\n",
    "\n",
    "satis_artirilmis = list(map(lambda k: k[\"satis\"]*1.1, kitaplar))\n",
    "\n",
    "sirali_kitaplar = sorted(kitaplar, key=lambda k: k[\"satis\"], reverse=True)\n",
    "\n",
    "satislar = [kitap[\"satis\"] for kitap in kitaplar]\n",
    "ortalama_satis = round(statistics.mean(satislar), 1)\n",
    "std_sapma = round(statistics.stdev(satislar), 1)\n",
    "\n",
    "tur_sayac = {}\n",
    "for kitap in kitaplar:\n",
    "    tur = kitap[\"tur\"]\n",
    "    tur_sayac[tur] = tur_sayac.get(tur, 0) + kitap[\"satis\"]\n",
    "en_cok_satan_tur = max(tur_sayac, key=tur_sayac.get)\n",
    "\n",
    "print(\"En çok satan kitap:\", en_cok_satan(kitaplar))\n",
    "print(\"Yazar satışları:\", yazar_satislari(kitaplar))\n",
    "print(\"Türler:\", turler)\n",
    "print(\"1000’den fazla satan kitaplar:\", populer_kitaplar)\n",
    "print(\"2020 sonrası kitaplar:\", [k[\"isim\"] for k in kitaplar_2020_sonra])\n",
    "print(\"Satışları %10 artırılmış liste:\", [round(x,1) for x in satis_artirilmis])\n",
    "print(\"Satışa göre azalan sıralama:\", [k[\"isim\"] for k in sirali_kitaplar])\n",
    "print(\"Ortalama satış:\", ortalama_satis)\n",
    "print(\"En çok satış yapan tür:\", en_cok_satan_tur)\n",
    "print(\"Standart sapma:\", std_sapma)"
   ]
  }
 ],
 "metadata": {
  "kernelspec": {
   "display_name": "Python [conda env:base] *",
   "language": "python",
   "name": "conda-base-py"
  },
  "language_info": {
   "codemirror_mode": {
    "name": "ipython",
    "version": 3
   },
   "file_extension": ".py",
   "mimetype": "text/x-python",
   "name": "python",
   "nbconvert_exporter": "python",
   "pygments_lexer": "ipython3",
   "version": "3.13.5"
  }
 },
 "nbformat": 4,
 "nbformat_minor": 5
}
